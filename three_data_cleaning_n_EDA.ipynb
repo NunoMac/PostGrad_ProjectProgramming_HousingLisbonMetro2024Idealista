{
 "cells": [
  {
   "cell_type": "code",
   "execution_count": 1,
   "id": "725e07b5-1ade-4aa6-ac1c-55d232446064",
   "metadata": {},
   "outputs": [],
   "source": [
    "import pandas as pd\n",
    "import numpy as np"
   ]
  },
  {
   "cell_type": "code",
   "execution_count": 2,
   "id": "f37a64dc-c290-4b38-91c2-4179dca42d2d",
   "metadata": {
    "scrolled": true
   },
   "outputs": [
    {
     "name": "stdout",
     "output_type": "stream",
     "text": [
      "<class 'pandas.core.frame.DataFrame'>\n",
      "RangeIndex: 500 entries, 0 to 499\n",
      "Data columns (total 39 columns):\n",
      " #   Column                  Non-Null Count  Dtype  \n",
      "---  ------                  --------------  -----  \n",
      " 0   propertyCode            500 non-null    int64  \n",
      " 1   thumbnail               500 non-null    object \n",
      " 2   numPhotos               500 non-null    int64  \n",
      " 3   floor                   341 non-null    object \n",
      " 4   price                   500 non-null    float64\n",
      " 5   priceInfo               500 non-null    object \n",
      " 6   propertyType            500 non-null    object \n",
      " 7   operation               500 non-null    object \n",
      " 8   size                    500 non-null    float64\n",
      " 9   rooms                   500 non-null    int64  \n",
      " 10  bathrooms               500 non-null    int64  \n",
      " 11  address                 500 non-null    object \n",
      " 12  province                500 non-null    object \n",
      " 13  municipality            500 non-null    object \n",
      " 14  district                473 non-null    object \n",
      " 15  country                 500 non-null    object \n",
      " 16  latitude                500 non-null    float64\n",
      " 17  longitude               500 non-null    float64\n",
      " 18  showAddress             500 non-null    bool   \n",
      " 19  url                     500 non-null    object \n",
      " 20  hasVideo                500 non-null    bool   \n",
      " 21  status                  500 non-null    object \n",
      " 22  newDevelopment          500 non-null    bool   \n",
      " 23  hasLift                 314 non-null    object \n",
      " 24  priceByArea             500 non-null    float64\n",
      " 25  detailedType            500 non-null    object \n",
      " 26  suggestedTexts          500 non-null    object \n",
      " 27  hasPlan                 500 non-null    bool   \n",
      " 28  has3DTour               500 non-null    bool   \n",
      " 29  has360                  500 non-null    bool   \n",
      " 30  hasStaging              500 non-null    bool   \n",
      " 31  highlight               13 non-null     object \n",
      " 32  topNewDevelopment       500 non-null    bool   \n",
      " 33  topPlus                 500 non-null    bool   \n",
      " 34  externalReference       458 non-null    object \n",
      " 35  description             206 non-null    object \n",
      " 36  parkingSpace            107 non-null    object \n",
      " 37  newDevelopmentFinished  26 non-null     object \n",
      " 38  neighborhood            22 non-null     object \n",
      "dtypes: bool(9), float64(5), int64(4), object(21)\n",
      "memory usage: 121.7+ KB\n"
     ]
    },
    {
     "name": "stderr",
     "output_type": "stream",
     "text": [
      "<>:1: SyntaxWarning: invalid escape sequence '\\c'\n",
      "<>:1: SyntaxWarning: invalid escape sequence '\\c'\n",
      "C:\\Users\\nihon\\AppData\\Local\\Temp\\ipykernel_59272\\3307920666.py:1: SyntaxWarning: invalid escape sequence '\\c'\n",
      "  df_test = pd.read_csv('data_acquisition_idealistaAPI\\collected_data\\lisboa_p1-10.csv')\n"
     ]
    }
   ],
   "source": [
    "df_test = pd.read_csv('data_acquisition_idealistaAPI\\collected_data\\lisboa_p1-10.csv')\n",
    "\n",
    "df_test.info()"
   ]
  },
  {
   "cell_type": "markdown",
   "id": "e39f9973-566f-4342-8869-335c50017e6b",
   "metadata": {},
   "source": [
    "## 1 What to do with each column\n"
   ]
  },
  {
   "cell_type": "code",
   "execution_count": 17,
   "id": "acca9b36-c813-426b-9ae8-a0bd207c90a2",
   "metadata": {},
   "outputs": [
    {
     "name": "stdout",
     "output_type": "stream",
     "text": [
      "0     435000.0\n",
      "1     230000.0\n",
      "2     329900.0\n",
      "3     329900.0\n",
      "4    2500000.0\n",
      "Name: price, dtype: float64\n"
     ]
    }
   ],
   "source": [
    "print(df_test.iloc[0:5,4])"
   ]
  },
  {
   "cell_type": "code",
   "execution_count": 42,
   "id": "3b9801b7-1cfd-481c-8ecf-6c11e0544a32",
   "metadata": {},
   "outputs": [
    {
     "data": {
      "text/plain": [
       "\"{'subtitle': 'São Vicente, Lisboa', 'title': 'Piso en Calçada dos Barbadinhos'}\""
      ]
     },
     "execution_count": 42,
     "metadata": {},
     "output_type": "execute_result"
    }
   ],
   "source": [
    "#iterate to check each column and do a first filtering\n",
    "column = 26 #number of column\n",
    "df_test.iloc[0:1,column]\n",
    "df_test.iloc[0,26]"
   ]
  },
  {
   "cell_type": "code",
   "execution_count": 7,
   "id": "ef3345ea-9cec-4ad2-9081-c3512af20dd7",
   "metadata": {},
   "outputs": [
    {
     "name": "stdout",
     "output_type": "stream",
     "text": [
      "propertyCode: as index\n",
      "thumbnail: as index\n"
     ]
    }
   ],
   "source": [
    "print(f'{df_test.columns[0]}: as index')\n",
    "print(f'{df_test.columns[1]}: delete column')\n",
    "print(f'{df_test.columns[2]}: FILTER for too few pictures (5?, 10?)')\n",
    "print(f'{df_test.columns[3]}: turn object to number')\n",
    "print(f'{df_test.columns[4]}: turn float to INT')\n",
    "print(f'{df_test.columns[5]}: delete column: parece repetir info da coluna 4-price')\n",
    "print(f'{df_test.columns[6]}: keep')\n",
    "print(f'{df_test.columns[7]}: deele (all are \"sale\")')\n",
    "print(f'{df_test.columns[8]}: turn float to INT')\n",
    "print(f'{df_test.columns[9]}: keep')\n",
    "print(f'{df_test.columns[10]}: keep')\n",
    "print(f'{df_test.columns[11]}: delete')\n",
    "print(f'{df_test.columns[12]}: keep')\n",
    "print(f'{df_test.columns[13]}: keep')\n",
    "print(f'{df_test.columns[14]}: keep')\n",
    "print(f'{df_test.columns[15]}: delete')\n",
    "print(f'{df_test.columns[16]}: keep')\n",
    "print(f'{df_test.columns[17]}: keep')\n",
    "print(f'{df_test.columns[18]}: delete')\n",
    "print(f'{df_test.columns[19]}: delete')\n",
    "print(f'{df_test.columns[20]}: or analyze which posts has video ans see if there is a correlation')\n",
    "print(f'{df_test.columns[21]}: keep')\n",
    "print(f'{df_test.columns[22]}: keep')\n",
    "print(f'{df_test.columns[23]}: keep')\n",
    "print(f'{df_test.columns[24]}: redundant?, delete?')\n",
    "print(f'{df_test.columns[25]}: create new column getting the value from the dictionary \"typology\": \"flat\"')\n",
    "print(f'{df_test.columns[26]}: delete?')\n",
    "\n",
    "\n",
    "\n",
    "\n",
    "\n",
    "\n",
    "\n",
    "\n",
    "\n",
    "      \n"
   ]
  },
  {
   "cell_type": "markdown",
   "id": "677ac026-04a2-4a01-bda7-cc11c5077e13",
   "metadata": {},
   "source": [
    "### Other cleaning\n",
    "- check repeated entries in final DF"
   ]
  },
  {
   "cell_type": "markdown",
   "id": "4b95b50a-bddd-4483-89e8-6cca793bc600",
   "metadata": {},
   "source": [
    "## LLM garbage cleaning (not ready to live in)"
   ]
  },
  {
   "cell_type": "code",
   "execution_count": null,
   "id": "36bd27ff-1f40-4748-a47c-fa4bfb16d44f",
   "metadata": {},
   "outputs": [],
   "source": []
  }
 ],
 "metadata": {
  "kernelspec": {
   "display_name": "Python 3 (ipykernel)",
   "language": "python",
   "name": "python3"
  },
  "language_info": {
   "codemirror_mode": {
    "name": "ipython",
    "version": 3
   },
   "file_extension": ".py",
   "mimetype": "text/x-python",
   "name": "python",
   "nbconvert_exporter": "python",
   "pygments_lexer": "ipython3",
   "version": "3.12.2"
  }
 },
 "nbformat": 4,
 "nbformat_minor": 5
}
